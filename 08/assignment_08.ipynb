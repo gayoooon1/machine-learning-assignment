{
 "cells": [
  {
   "cell_type": "markdown",
   "metadata": {},
   "source": [
    "# Logistic Regression "
   ]
  },
  {
   "cell_type": "markdown",
   "metadata": {},
   "source": [
    "## Assignment Explanation    \n",
    "데이터는 x, y, label로 구성되어 있으며 2차원 평면에서의 x, y 좌표, 세 번째는 주어진 좌표의 class label, 0,1 class를 의미한다. 학습 데이터는 2차원 평면에 있는 유클리디언 공간에 있는 포인트와 레이블로 구성된다. 즉, x, y 좌표계가 있을 때 포인트가 (x,y) 2차원 포인트가 정해지고, 그들의 레이블이 0 또는 1로 주어지게 된다. 이러한 포인트들이 많이 있을 때 이것을 구분하는 classifier 함수를 찾는 것이 본 과제의 목표이다.   \n",
    "\n",
    "Linear regression function을 f라 할 때 x, y 실수값에 대해 모델 파라미터가 theta, theta는 세개의 실수를 갖는 벡터이며 theta0 + theta1 * x+ theta2 * y 이는 p = (1,x,y) 라고 둘 때 f = theta.T*P 로 표현할 수 있다. 그리고 Logistic Regression에서는 시그모이드 함수를 사용하는데 실수 z에 대해서 σ(z)= 1/1+exp(−z)​, 미분을 하면 σ′(z)=σ(z)(1−σ(z))   \n",
    "\n",
    "Logistic function은 주어진 x, y에 대해서 이것의 모델 파라미터가 theta라고 하면, theta0, 1,2로 나온 애가 있다면 logistic function은 sigmoid(theta.T*p) p = (1, x, y) classification은 loss = cross entropy를 사용하는데, 이것을 residual이라고 하자. ri(theta) i번째 데이터에 대해서 그것의 cross entropy를 계산한 것, 주어진 xi, yi에 대해서 이것의 logistic f와 label과의 cross entropy. 주어진 xi, yi, 모델 파라미터 theta를 통해서 logistic f를 i번째 데이터에 대한 것으로 정의하고, 이는 sigmoid(f(theta; xi, yi)) . 이 logistic h(i)와 ground truth li의 cross entropy를 통해 residual을 정의할 수 있다. h(i)는 주어진 xi, yi에 대한 로지스틱 함수! 최종적으로 optimize할 목적함수는 목적함수의 unknown은 모델 파라미터 theta이며, 주어진 학습 데이터 n개의 데이터 training sample이 주어질 때 전체 optimize 목적함수는 위에서 정의한 residual을 i번째 주어진 학습 데이터에 대한 residual을 모두 더해서 n으로 나눈 것이며, residual은 cross entropy를 통해 정의된다.   \n",
    "\n",
    "얻고자 하는 솔루션은 로지스틱 함수를 얻는 것이 목표이다. optima란 로지스틱 함수 x, y가 인풋으로 들어올 때 함수 값을 내고 싶은데, 목적함수를 최소화하는 optima, theta를 원하는 것이다. theta* = arg min objective func 이 값이 0.5를 기준으로 해서 어떤 주어진 x, y에 대해서 이것을 로지스틱 함수에 적용을 했더니 이 값이 만약 0.5보다 크거나 같으면 레이블은 1이 되고, 0.5보다 작으면 레이블은 0으로 판단한다. 로지스틱 함수는 시그모이드를 취한 것이기 때문에 시그모이드는 그 값이 z가 0일 때 0.5 값을 갖고, z가 커지면 1에 가까워지며 작아지면 0에 가까워진다. 시그모이드는 0,1 사이의 값을 가지며 이것이 어떤 레이블이 되는 확률로 표현할 수 있게 된다. optima란 모델 파라미터를 찾아야 하는데, 로스함수가 최소가 되는 지점의 세타이다.  Gradient로 얻게 된다. "
   ]
  },
  {
   "cell_type": "markdown",
   "metadata": {},
   "source": [
    "## import library"
   ]
  },
  {
   "cell_type": "code",
   "execution_count": 1,
   "metadata": {},
   "outputs": [],
   "source": [
    "import numpy as np # 제시된 것만 사용하기\n",
    "import matplotlib.pyplot as plt\n",
    "import matplotlib.colors as colors\n",
    "from matplotlib import ticker, cm"
   ]
  },
  {
   "cell_type": "markdown",
   "metadata": {},
   "source": [
    "## load training data"
   ]
  },
  {
   "cell_type": "code",
   "execution_count": 2,
   "metadata": {},
   "outputs": [
    {
     "name": "stdout",
     "output_type": "stream",
     "text": [
      "number of data =  600\n",
      "data type of point x =  float64\n",
      "data type of point y =  float64\n"
     ]
    }
   ],
   "source": [
    "fname_data = 'assignment_08_data.csv'\n",
    "\n",
    "data        = np.genfromtxt(fname_data, delimiter=',')\n",
    "number_data = data.shape[0] # 600개의 data point\n",
    "\n",
    "point_x = data[:, 0] # x coordinate\n",
    "point_y = data[:, 1] # y\n",
    "label   = data[:, 2] # label\n",
    "\n",
    "print('number of data = ', number_data)\n",
    "print('data type of point x = ', point_x.dtype)\n",
    "print('data type of point y = ', point_y.dtype)\n",
    "\n",
    "point_x_class_0 = point_x[label == 0] # x 중에 레이블 0\n",
    "point_y_class_0 = point_y[label == 0]\n",
    "\n",
    "point_x_class_1 = point_x[label == 1]\n",
    "point_y_class_1 = point_y[label == 1]"
   ]
  },
  {
   "cell_type": "markdown",
   "metadata": {},
   "source": [
    "## plot the data"
   ]
  },
  {
   "cell_type": "code",
   "execution_count": 3,
   "metadata": {},
   "outputs": [
    {
     "data": {
      "image/png": "[encoded data removed]",
      "text/plain": [
       "<Figure size 576x576 with 1 Axes>"
      ]
     },
     "metadata": {
      "needs_background": "light"
     },
     "output_type": "display_data"
    }
   ],
   "source": [
    "f = plt.figure(figsize=(8,8))   # 이를 잘 구분하는 linear classifier 찾기가 목적\n",
    "\n",
    "plt.title('training data')\n",
    "plt.plot(point_x_class_0, point_y_class_0, 'o', color='blue', label='class = 0')\n",
    "plt.plot(point_x_class_1, point_y_class_1, 'o', color='red', label='class = 1')\n",
    "plt.axis('equal')\n",
    "plt.legend()\n",
    "plt.tight_layout()\n",
    "plt.show()"
   ]
  },
  {
   "cell_type": "markdown",
   "metadata": {},
   "source": [
    "## define the linear regression function"
   ]
  },
  {
   "cell_type": "markdown",
   "metadata": {},
   "source": [
    "- $\\theta = (\\theta_0, \\theta_1, \\theta_2)$\n",
    "- point = $(1, x, y) \\in \\mathbb{R}^3$"
   ]
  },
  {
   "cell_type": "code",
   "execution_count": 4,
   "metadata": {},
   "outputs": [],
   "source": [
    "def compute_linear_regression(theta, point): \n",
    "    # theta = 벡터, point는 하나의 포인트가 들어올 수도, 여러개가 들어올 수도 있다.\n",
    "    # 첫 번째 컬럼은 1을 임의로 추가하고, 두 번째는 x, 세 번째는 y\n",
    "    # f 정의하기\n",
    "\n",
    "    # ++++++++++++++++++++++++++++++++++++++++++++++++++\n",
    "    # complete the blanks\n",
    "    #\n",
    "\n",
    "    \n",
    "    value = np.dot(point, theta.T) \n",
    "    # theta[0] + theta[1] * point[:, 1:2] + theta[2] * point[:, 2:3]\n",
    "    # \n",
    "    # \n",
    "    # ++++++++++++++++++++++++++++++++++++++++++++++++++\n",
    "\n",
    "    return value"
   ]
  },
  {
   "cell_type": "markdown",
   "metadata": {},
   "source": [
    "https://stackoverflow.com/questions/11033573/difference-between-numpy-dot-and-inner"
   ]
  },
  {
   "cell_type": "markdown",
   "metadata": {},
   "source": [
    "## define sigmoid function with input"
   ]
  },
  {
   "cell_type": "markdown",
   "metadata": {},
   "source": [
    "- $z \\in \\mathbb{R}$\n",
    "- `np.exp()`"
   ]
  },
  {
   "cell_type": "code",
   "execution_count": 5,
   "metadata": {},
   "outputs": [],
   "source": [
    "def sigmoid(z):\n",
    "    # sigmoid 정의에 따라서 input scaler(z)이 들어왔을 때 시그모이드 출력하기\n",
    "\n",
    "    # ++++++++++++++++++++++++++++++++++++++++++++++++++\n",
    "    # complete the blanks\n",
    "    #\n",
    "    \n",
    "    \n",
    "    value = 1 / (1 + np.exp(-z))\n",
    "    #\n",
    "    # ++++++++++++++++++++++++++++++++++++++++++++++++++\n",
    "\n",
    "    return value "
   ]
  },
  {
   "cell_type": "markdown",
   "metadata": {},
   "source": [
    "## define the logistic regression function"
   ]
  },
  {
   "cell_type": "markdown",
   "metadata": {},
   "source": [
    "- $\\theta = (\\theta_0, \\theta_1, \\theta_2) \\in \\mathbb{R}^3$\n",
    "- point = $(1, x, y) \\in \\mathbb{R}^3$"
   ]
  },
  {
   "cell_type": "code",
   "execution_count": 6,
   "metadata": {},
   "outputs": [],
   "source": [
    "def compute_logistic_regression(theta, point):\n",
    "    # h 함수, 위에서 정의한 regression output에 시그모이드를 적용한 것이다.\n",
    "    # ++++++++++++++++++++++++++++++++++++++++++++++++++\n",
    "    # complete the blanks\n",
    "    #\n",
    "\n",
    "\n",
    "    value = sigmoid(compute_linear_regression(theta, point)) #0과 1사이 값으로 나타나야 하는거\n",
    "    #\n",
    "    # ++++++++++++++++++++++++++++++++++++++++++++++++++\n",
    "\n",
    "    return value"
   ]
  },
  {
   "cell_type": "markdown",
   "metadata": {},
   "source": [
    "## define the residual function"
   ]
  },
  {
   "cell_type": "markdown",
   "metadata": {},
   "source": [
    "- $\\theta = (\\theta_0, \\theta_1, \\theta_2) \\in \\mathbb{R}^3$\n",
    "- point $= (x, y) \\in \\mathbb{R}^2$\n",
    "- label $= l \\in \\{0, 1\\}$   \n",
    "- `np.log()`"
   ]
  },
  {
   "cell_type": "code",
   "execution_count": 7,
   "metadata": {},
   "outputs": [],
   "source": [
    "def compute_residual(theta, point, label): # 얘도 (600,) 이렇게 나와야함...\n",
    "    # cross entropy\n",
    "    # ++++++++++++++++++++++++++++++++++++++++++++++++++\n",
    "    # complete the blanks\n",
    "    #\n",
    "    h = compute_logistic_regression(theta, point) # (600,)\n",
    "    residual = - label * np.log(h) - (1 - label) * np.log(1 - h)\n",
    "    # - label * np.log(h + 1e-7) - (1 - label) * np.log(1 - h + 1e-7) # y = 0, 1 각각\n",
    "    #\n",
    "    # ++++++++++++++++++++++++++++++++++++++++++++++++++\n",
    "\n",
    "    return residual"
   ]
  },
  {
   "cell_type": "markdown",
   "metadata": {},
   "source": [
    "## define the loss function for the logistic regression"
   ]
  },
  {
   "cell_type": "markdown",
   "metadata": {},
   "source": [
    "- $\\theta = (\\theta_0, \\theta_1, \\theta_2) \\in \\mathbb{R}^3$\n",
    "- point $= (1, x, y) \\in \\mathbb{R}^3$\n",
    "- label $= l \\in \\{0, 1\\}$"
   ]
  },
  {
   "cell_type": "code",
   "execution_count": 8,
   "metadata": {},
   "outputs": [],
   "source": [
    "def compute_loss(theta, point, label):\n",
    "\n",
    "    # ++++++++++++++++++++++++++++++++++++++++++++++++++\n",
    "    # complete the blanks\n",
    "    #\n",
    "\n",
    "\n",
    "    loss = (1 / point.shape[0]) * np.sum(compute_residual(theta, point, label))\n",
    "    #\n",
    "    #\n",
    "    # ++++++++++++++++++++++++++++++++++++++++++++++++++\n",
    "\n",
    "    return loss"
   ]
  },
  {
   "cell_type": "markdown",
   "metadata": {},
   "source": [
    "## define the gradient of the loss with respect to the model parameter $\\theta$"
   ]
  },
  {
   "cell_type": "markdown",
   "metadata": {},
   "source": [
    "- $\\theta = (\\theta_0, \\theta_1, \\theta_2) \\in \\mathbb{R}^3$\n",
    "- point $= (1, x, y) \\in \\mathbb{R}^3$\n",
    "- label $= l \\in \\{0, 1\\}$"
   ]
  },
  {
   "cell_type": "code",
   "execution_count": 9,
   "metadata": {},
   "outputs": [],
   "source": [
    "def compute_gradient(theta, point, label):\n",
    "\n",
    "    # ++++++++++++++++++++++++++++++++++++++++++++++++++\n",
    "    # complete the blanks\n",
    "    #\n",
    "\n",
    "    h = compute_logistic_regression(theta, point)\n",
    "    # 로스에 대한 파라미터의 gradient 구하고 descent 통해 최적화\n",
    "    gradient =  (1 / point.shape[0]) * np.dot(point.T , (h - label)) \n",
    "    # \n",
    "    # ++++++++++++++++++++++++++++++++++++++++++++++++++\n",
    "\n",
    "    return gradient"
   ]
  },
  {
   "cell_type": "markdown",
   "metadata": {},
   "source": [
    "## initialize the gradient descent algorithm"
   ]
  },
  {
   "cell_type": "code",
   "execution_count": 10,
   "metadata": {
    "tags": []
   },
   "outputs": [
    {
     "name": "stdout",
     "output_type": "stream",
     "text": [
      "shape of point_class_0 :  (300, 3)\n",
      "shape of point_class_1 :  (300, 3)\n",
      "shape of label_0 :  (300,)\n",
      "shape of label_1 :  (300,)\n",
      "shape of point :  (600, 3)\n",
      "shape of label :  (600,)\n"
     ]
    }
   ],
   "source": [
    "num_iteration   = 5000  # USE THIS VALUE for the number of gradient descent iterations \n",
    "learning_rate   = 0.001 # USE THIS VALUE for the learning rate\n",
    "\n",
    "theta           = np.array((0, 0, 0))\n",
    "# iteration마다 저장\n",
    "theta_iteration = np.zeros((num_iteration, theta.size))\n",
    "loss_iteration  = np.zeros(num_iteration)\n",
    "\n",
    "number_point_class_0    = len(point_x_class_0)\n",
    "number_point_class_1    = len(point_x_class_1)\n",
    "\n",
    "point_class_0   = np.ones((number_point_class_0, 3))\n",
    "point_class_1   = np.ones((number_point_class_1, 3))\n",
    "\n",
    "point_class_0[:, 1] = point_x_class_0\n",
    "point_class_0[:, 2] = point_y_class_0\n",
    " \n",
    "point_class_1[:, 1] = point_x_class_1\n",
    "point_class_1[:, 2] = point_y_class_1\n",
    "\n",
    "label_0     = np.zeros(number_point_class_0)\n",
    "label_1     = np.ones(number_point_class_1)\n",
    "\n",
    "point = np.concatenate((point_class_0, point_class_1), axis=0)\n",
    "label = np.concatenate((label_0, label_1), axis=0)\n",
    "\n",
    "print('shape of point_class_0 : ', point_class_0.shape)\n",
    "print('shape of point_class_1 : ', point_class_1.shape)\n",
    "print('shape of label_0 : ', label_0.shape)\n",
    "print('shape of label_1 : ', label_1.shape)\n",
    "\n",
    "print('shape of point : ', point.shape)\n",
    "print('shape of label : ', label.shape)"
   ]
  },
  {
   "cell_type": "markdown",
   "metadata": {},
   "source": [
    "## run the gradient descent algorithm to optimize the loss function with respect to the model parameter"
   ]
  },
  {
   "cell_type": "code",
   "execution_count": 11,
   "metadata": {
    "tags": [
     "outputPrepend"
    ]
   },
   "outputs": [],
   "source": [
    "for i in range(num_iteration):\n",
    "    \n",
    "    # ++++++++++++++++++++++++++++++++++++++++++++++++++\n",
    "    # complete the blanks\n",
    "    #\n",
    "\n",
    "    \n",
    "    theta   = theta - learning_rate * compute_gradient(theta, point, label)\n",
    "    loss    = compute_loss(theta, point, label)\n",
    "    #\n",
    "    # ++++++++++++++++++++++++++++++++++++++++++++++++++\n",
    "\n",
    "    #print(i)\n",
    "    theta_iteration[i, :]   = theta\n",
    "    #print('theta' ,':', theta)\n",
    "    loss_iteration[i]       = loss\n",
    "    #print('loss',':', loss)\n",
    "\n",
    "theta_optimal = theta"
   ]
  },
  {
   "cell_type": "markdown",
   "metadata": {},
   "source": [
    "___"
   ]
  },
  {
   "cell_type": "markdown",
   "metadata": {},
   "source": [
    "___"
   ]
  },
  {
   "cell_type": "markdown",
   "metadata": {},
   "source": [
    "## functions for presenting the results"
   ]
  },
  {
   "cell_type": "markdown",
   "metadata": {},
   "source": [
    "___"
   ]
  },
  {
   "cell_type": "markdown",
   "metadata": {},
   "source": [
    "___"
   ]
  },
  {
   "cell_type": "code",
   "execution_count": 12,
   "metadata": {},
   "outputs": [],
   "source": [
    "def function_result_01():\n",
    "\n",
    "    input1  = np.array([0.1, 0.2, 0.3])\n",
    "    input2  = np.array([[1, 2, 3], [1, -2, -3]])\n",
    "\n",
    "    value = compute_linear_regression(input1, input2)\n",
    "    \n",
    "    print(value)"
   ]
  },
  {
   "cell_type": "code",
   "execution_count": 13,
   "metadata": {},
   "outputs": [],
   "source": [
    "def function_result_02():\n",
    "    \n",
    "    input1  = np.array([0.1, 0.2, 0.3])\n",
    "    input2  = np.array([[1, 2, 3], [1, -2, -3]])\n",
    "\n",
    "    value = compute_logistic_regression(input1, input2)\n",
    "\n",
    "    print(value)"
   ]
  },
  {
   "cell_type": "code",
   "execution_count": 14,
   "metadata": {},
   "outputs": [],
   "source": [
    "def function_result_03():\n",
    "\n",
    "    input1  = np.array([0.1, 0.2, 0.3])\n",
    "    input2  = np.array([[1, 2, 3], [1, -2, -3]])\n",
    "    input3  = np.array([0, 1])\n",
    "\n",
    "    value = compute_residual(input1, input2, input3)\n",
    "\n",
    "    print(value)"
   ]
  },
  {
   "cell_type": "code",
   "execution_count": 15,
   "metadata": {},
   "outputs": [],
   "source": [
    "def function_result_04():\n",
    "    \n",
    "    input1  = np.array([0.1, 0.2, 0.3])\n",
    "    input2  = np.array([[1, 2, 3], [1, -2, -3]])\n",
    "    input3  = np.array([[0], [1]])\n",
    "\n",
    "    value = compute_loss(input1, input2, input3)\n",
    "\n",
    "    print(value)"
   ]
  },
  {
   "cell_type": "code",
   "execution_count": 16,
   "metadata": {},
   "outputs": [],
   "source": [
    "def function_result_05():\n",
    "    \n",
    "    input1  = np.array([0.1, 0.2, 0.3])\n",
    "    input2  = np.array([[1, 2, 3], [1, -2, -3]])\n",
    "    input3  = np.array([[0], [1]])\n",
    "\n",
    "    value = compute_gradient(input1, input2, input3)\n",
    "\n",
    "    print(value)"
   ]
  },
  {
   "cell_type": "code",
   "execution_count": 17,
   "metadata": {},
   "outputs": [],
   "source": [
    "def function_result_06():\n",
    "    \n",
    "    plt.figure(figsize=(8,6))\n",
    "    plt.title('loss')\n",
    "\n",
    "    plt.plot(loss_iteration, '-', color='red')\n",
    "    plt.xlabel('iteration')\n",
    "    plt.ylabel('loss')\n",
    "\n",
    "    plt.tight_layout()\n",
    "    plt.show()"
   ]
  },
  {
   "cell_type": "code",
   "execution_count": 18,
   "metadata": {},
   "outputs": [],
   "source": [
    "def function_result_07():\n",
    "    \n",
    "    plt.figure(figsize=(8,6))   # USE THIS VALUE for the size of the figure\n",
    "    plt.title('model parameter')\n",
    "\n",
    "    plt.plot(theta_iteration[:, 0], '-', color='red', label=r'$\\theta_0$')\n",
    "    plt.plot(theta_iteration[:, 1], '-', color='green', label=r'$\\theta_1$')\n",
    "    plt.plot(theta_iteration[:, 2], '-', color='blue', label=r'$\\theta_2$')\n",
    "    \n",
    "    plt.xlabel('iteration')\n",
    "    plt.legend()\n",
    "\n",
    "    plt.tight_layout()\n",
    "    plt.show()"
   ]
  },
  {
   "cell_type": "markdown",
   "metadata": {},
   "source": [
    "## About Function 8 & 9   \n",
    "8번 함수는 x, y는 2차원 평면에서 주어진 범위 (-20~35) 사이에 그리드를 만드는 함수다. 그 때, 사용되어진 step size가 바로 0.1, 0.1 간격으로 그리드, 포인트를 만드는 것. 포인트를 만든 후에 현재 logistic regression 함수와 linear 함수가 있는데, 모델 파라미터를 얻어서 x,y 들어올 때 sigmoid...한 것과 같다. 여기서 요구하는 것은 linear regression value 출력하는 것이다. 생성한 그리드 포인트 각각에 대해서 f함수의 값을 색으로 표현하는 것이다. 즉, 주어진 x,y에 대해서 f(optimal model param, x,y) 값 각각 포인트에 대해 이 값을 얻고, 색으로 표현하라. 0은 파랑, 1은 빨강. 그리고 나서 검은색으로 linear 함수가 0이 되는 x,y를 그려라. 주어진 학습 데이터 파랑색 0, 1은 빨강 superimpose   \n",
    "\n",
    "9번함수는 8번과 비슷하나, linear 대신 logistic 실제 분류기의 값을 보여주는 것이다. 모든 주어진 각각의 매쉬 포인트에 대해 classifier의 값, 시그모이드 적용한 함수의 값을 색으로 visualize 하라. 0은 파랑, 1은 빨강. 주어진 학습 데이터의 클래스 0은 파랑, 클래스 1은 빨강으로 시각화하라. 여기서는 특별히 classifier의 boundary를 그리지 않아도 된다. 로지스틱 함수의 경우 class boundary가 0.5이다. 0을 sigmoid에 넣으면 0.5가 되니까"
   ]
  },
  {
   "cell_type": "markdown",
   "metadata": {},
   "source": [
    "## plot the linear regression values over the 2-dimensional Euclidean space and superimpose the training data"
   ]
  },
  {
   "cell_type": "code",
   "execution_count": 41,
   "metadata": {},
   "outputs": [
    {
     "data": {
      "image/png": "[encoded data removed]",
      "text/plain": [
       "<Figure size 576x576 with 2 Axes>"
      ]
     },
     "metadata": {
      "needs_background": "light"
     },
     "output_type": "display_data"
    }
   ],
   "source": [
    "X = np.arange(-20, 35, 0.1) # USE THIS VALUE for the range of x values in the construction of coordinate\n",
    "Y = np.arange(-20, 35, 0.1) # USE THIS VALUE for the range of y values in the construction of coordinate\n",
    "    \n",
    "[XX, YY] = np.meshgrid(X, Y) # [-20. , -19.9, -19.8, ...,  34.7,  34.8,  34.9]\n",
    "\n",
    "plt.figure(figsize=(8,8))   \n",
    "\n",
    "ZZ = theta[0] + theta[1] * XX + theta[2] * YY\n",
    "\n",
    "levels = ticker.MaxNLocator(nbins = 100).tick_values(ZZ.min(), ZZ.max())\n",
    "#plt.pcolormesh(XX, YY, ZZ, cmap = plt.cm.RdBu_r, hatch='/')\n",
    "\n",
    "plt.contourf(XX, YY, ZZ, cmap = plt.cm.RdBu_r, levels=levels)\n",
    "plt.colorbar()\n",
    "\n",
    "#plt.plot(point_x_class_0, point_y_class_0, 'o', color='blue', label='class = 0')\n",
    "#plt.plot(point_x_class_1, point_y_class_1, 'o', color='red', label='class = 1')\n",
    "\n",
    "plt.plot(point_x_class_0, point_y_class_0, '.', color='blue', label='class = 0')\n",
    "plt.plot(point_x_class_1, point_y_class_1, '.', color='red', label='class = 1')\n",
    "\n",
    "\n",
    "zero = (-theta[0] -theta[1] * X) / theta[2] # linear regression line\n",
    "plt.plot(X, zero, color = 'k')\n",
    "\n",
    "plt.axis('equal')\n",
    "plt.legend()\n",
    "\n",
    "plt.show()"
   ]
  },
  {
   "cell_type": "markdown",
   "metadata": {},
   "source": [
    "https://machinelearningmastery.com/plot-a-decision-surface-for-machine-learning/"
   ]
  },
  {
   "cell_type": "code",
   "execution_count": 24,
   "metadata": {},
   "outputs": [],
   "source": [
    "def function_result_08():\n",
    "\n",
    "    X = np.arange(-20, 35, 0.1) # USE THIS VALUE for the range of x values in the construction of coordinate\n",
    "    Y = np.arange(-20, 35, 0.1) # USE THIS VALUE for the range of y values in the construction of coordinate\n",
    "    \n",
    "    [XX, YY] = np.meshgrid(X, Y)\n",
    "\n",
    "    # ++++++++++++++++++++++++++++++++++++++++++++++++++\n",
    "    # complete the blanks\n",
    "    #\n",
    "       \n",
    "    ZZ = theta[0] + theta[1] * XX + theta[2] * YY\n",
    "\n",
    "    levels = ticker.MaxNLocator(nbins = 100).tick_values(ZZ.min(), ZZ.max())\n",
    "    #plt.pcolormesh(XX, YY, ZZ, cmap = plt.cm.RdBu_r, hatch='/')\n",
    "    plt.figure(figsize=(8,8))\n",
    "    plt.contourf(XX, YY, ZZ, cmap = plt.cm.RdBu_r, levels=levels)\n",
    "    plt.colorbar()\n",
    "\n",
    "    #plt.plot(point_x_class_0, point_y_class_0, 'o', color='blue', label='class = 0')\n",
    "    #plt.plot(point_x_class_1, point_y_class_1, 'o', color='red', label='class = 1')\n",
    "\n",
    "    plt.plot(point_x_class_0, point_y_class_0, '.', color='blue', label='class = 0')\n",
    "    plt.plot(point_x_class_1, point_y_class_1, '.', color='red', label='class = 1')\n",
    "\n",
    "\n",
    "    zero = (-theta[0] -theta[1] * X) / theta[2] # linear regression line\n",
    "    plt.plot(X, zero, color = 'k')\n",
    "\n",
    "    plt.axis('equal')\n",
    "    plt.legend()\n",
    "\n",
    "    plt.show()\n",
    "\n",
    "    #\n",
    "    # ++++++++++++++++++++++++++++++++++++++++++++++++++"
   ]
  },
  {
   "cell_type": "markdown",
   "metadata": {},
   "source": [
    "## plot the logistic regression values over the 2-dimensional Euclidean space"
   ]
  },
  {
   "cell_type": "code",
   "execution_count": 42,
   "metadata": {},
   "outputs": [],
   "source": [
    "def function_result_09():\n",
    "\n",
    "    X = np.arange(-20, 35, 0.1) # USE THIS VALUE for the range of x values in the construction of coordinate\n",
    "    Y = np.arange(-20, 35, 0.1) # USE THIS VALUE for the range of y values in the construction of coordinate\n",
    "\n",
    "    [XX, YY] = np.meshgrid(X, Y)\n",
    "\n",
    "    # ++++++++++++++++++++++++++++++++++++++++++++++++++\n",
    "    # complete the blanks\n",
    "    #\n",
    "\n",
    "    ZZ = sigmoid(theta[0] + theta[1] * XX + theta[2] * YY) # logistic regression function\n",
    "\n",
    "    levels = ticker.MaxNLocator(nbins = 100).tick_values(ZZ.min(), ZZ.max())\n",
    "    plt.figure(figsize=(8,8))\n",
    "    plt.contourf(XX, YY, ZZ, cmap = plt.cm.RdBu_r, levels=levels)\n",
    "    plt.colorbar()\n",
    "\n",
    "    plt.plot(point_x_class_0, point_y_class_0, '.', color='blue', label='class = 0') # training data\n",
    "    plt.plot(point_x_class_1, point_y_class_1, '.', color='red', label='class = 1')\n",
    "\n",
    "    plt.axis('equal')\n",
    "    plt.legend()\n",
    "\n",
    "    plt.show()\n",
    "\n",
    "    #\n",
    "    # ++++++++++++++++++++++++++++++++++++++++++++++++++"
   ]
  },
  {
   "cell_type": "markdown",
   "metadata": {},
   "source": [
    "___"
   ]
  },
  {
   "cell_type": "markdown",
   "metadata": {},
   "source": [
    "___"
   ]
  },
  {
   "cell_type": "markdown",
   "metadata": {},
   "source": [
    "## results"
   ]
  },
  {
   "cell_type": "markdown",
   "metadata": {},
   "source": [
    "___"
   ]
  },
  {
   "cell_type": "markdown",
   "metadata": {},
   "source": [
    "___"
   ]
  },
  {
   "cell_type": "code",
   "execution_count": 26,
   "metadata": {},
   "outputs": [
    {
     "name": "stdout",
     "output_type": "stream",
     "text": [
      "**************************************************\n",
      "## [RESULT 01]\n",
      "**************************************************\n",
      "[ 1.4 -1.2]\n",
      "**************************************************\n",
      "## [RESULT 02]\n",
      "**************************************************\n",
      "[0.80218389 0.23147522]\n",
      "**************************************************\n",
      "## [RESULT 03]\n",
      "**************************************************\n",
      "[1.62041741 1.46328247]\n",
      "**************************************************\n",
      "## [RESULT 04]\n",
      "**************************************************\n",
      "1.783699877256482\n",
      "**************************************************\n",
      "## [RESULT 05]\n",
      "**************************************************\n",
      "[[ 0.30218389 -0.26852478]\n",
      " [ 1.          1.        ]\n",
      " [ 1.5         1.5       ]]\n",
      "**************************************************\n",
      "## [RESULT 06]\n",
      "**************************************************\n"
     ]
    },
    {
     "data": {
      "image/png": "[encoded data removed]",
      "text/plain": [
       "<Figure size 576x432 with 1 Axes>"
      ]
     },
     "metadata": {
      "needs_background": "light"
     },
     "output_type": "display_data"
    },
    {
     "name": "stdout",
     "output_type": "stream",
     "text": [
      "**************************************************\n",
      "## [RESULT 07]\n",
      "**************************************************\n"
     ]
    },
    {
     "data": {
      "image/png": "[encoded data removed]",
      "text/plain": [
       "<Figure size 576x432 with 1 Axes>"
      ]
     },
     "metadata": {
      "needs_background": "light"
     },
     "output_type": "display_data"
    },
    {
     "name": "stdout",
     "output_type": "stream",
     "text": [
      "**************************************************\n",
      "## [RESULT 08]\n",
      "**************************************************\n",
      "**************************************************\n",
      "## [RESULT 09]\n",
      "**************************************************\n"
     ]
    }
   ],
   "source": [
    "number_result = 9\n",
    "\n",
    "for i in range(number_result):\n",
    "    title = '## [RESULT {:02d}]'.format(i+1)\n",
    "    name_function = 'function_result_{:02d}()'.format(i+1)\n",
    "\n",
    "    print('**************************************************')\n",
    "    print(title)\n",
    "    print('**************************************************')\n",
    "    eval(name_function)"
   ]
  },
  {
   "cell_type": "code",
   "execution_count": null,
   "metadata": {},
   "outputs": [],
   "source": []
  }
 ],
 "metadata": {
  "interpreter": {
   "hash": "585a938ec471c889bf0cce0aed741a99eaf47ca09c0fa8393793bc5bfe77ba11"
  },
  "kernelspec": {
   "display_name": "Python 3.7.11 ('base')",
   "language": "python",
   "name": "python3"
  },
  "language_info": {
   "codemirror_mode": {
    "name": "ipython",
    "version": 3
   },
   "file_extension": ".py",
   "mimetype": "text/x-python",
   "name": "python",
   "nbconvert_exporter": "python",
   "pygments_lexer": "ipython3",
   "version": "3.7.11"
  },
  "metadata": {
   "interpreter": {
    "hash": "31f2aee4e71d21fbe5cf8b01ff0e069b9275f58929596ceb00d14d90e3e16cd6"
   }
  }
 },
 "nbformat": 4,
 "nbformat_minor": 2
}
